{
 "cells": [
  {
   "cell_type": "code",
   "execution_count": 1,
   "metadata": {},
   "outputs": [],
   "source": [
    "from sklearn import preprocessing\n",
    "from sklearn.preprocessing import MinMaxScaler\n",
    "from sklearn.model_selection import train_test_split\n",
    "from keras.models import Sequential\n",
    "from keras.layers import Dense\n",
    "import matplotlib.pyplot as plt\n",
    "import pandas as pd\n",
    "import numpy as np"
   ]
  },
  {
   "cell_type": "code",
   "execution_count": 2,
   "metadata": {},
   "outputs": [],
   "source": [
    "def load_dataset(title):\n",
    "    return pd.read_csv('./'+title+'.csv')"
   ]
  },
  {
   "cell_type": "code",
   "execution_count": 3,
   "metadata": {},
   "outputs": [],
   "source": [
    "# Load data ignoring Rownumber, Customer ID and Surname\n",
    "dataframe = load_dataset('Churn_Modelling')"
   ]
  },
  {
   "cell_type": "code",
   "execution_count": 4,
   "metadata": {},
   "outputs": [],
   "source": [
    "def set_inputs(range_x_1, range_x_2):\n",
    "    return dataset[:,range_x_1:range_x_2]"
   ]
  },
  {
   "cell_type": "code",
   "execution_count": 5,
   "metadata": {},
   "outputs": [],
   "source": [
    "def set_output(range_y):\n",
    "    return dataset[:,range_y]"
   ]
  },
  {
   "cell_type": "code",
   "execution_count": 6,
   "metadata": {},
   "outputs": [],
   "source": [
    "# Transform Geography and Gender to numerical values\n",
    "le = preprocessing.LabelEncoder()\n",
    "encoded = dataframe.apply(le.fit_transform)\n",
    "dataset = encoded.values"
   ]
  },
  {
   "cell_type": "code",
   "execution_count": 7,
   "metadata": {},
   "outputs": [],
   "source": [
    "# set inputs - output\n",
    "X = set_inputs(range_x_1 = 3, range_x_2 = 13)\n",
    "y = set_output(range_y = 13)"
   ]
  },
  {
   "cell_type": "code",
   "execution_count": 8,
   "metadata": {},
   "outputs": [],
   "source": [
    "X_train, X_test, y_train, y_test = train_test_split(X, y, test_size = 0.1, random_state = 0)"
   ]
  },
  {
   "cell_type": "code",
   "execution_count": 9,
   "metadata": {},
   "outputs": [],
   "source": [
    "# Rescale min and max for X\n",
    "scaler = MinMaxScaler(feature_range=(0, 1))\n",
    "rescaledX = scaler.fit_transform(X)\n",
    "X_train = scaler.fit_transform(X_train)\n",
    "X_test = scaler.transform(X_test)"
   ]
  },
  {
   "cell_type": "code",
   "execution_count": 10,
   "metadata": {},
   "outputs": [],
   "source": [
    "# Kerasa sıralı bir modelimizin olduğunu belirtiyoruz. \n",
    "# Eklenen her katmanın çıktısı kendinden bir sonraki katmana girdi olacağını belirtiyoruz.\n",
    "model = Sequential() \n",
    "\n",
    "# sinir ağımıza katman eklemek için .add kullanıyoruz.\n",
    "# Dense'i katmanların bağlı olduğunu belirtmek için kullanıyoruz.\n",
    "# Dense: katman boyutu, input_dim: girdi boyutu, activation: kullandığımız aktivasyon fonksiyonu.\n",
    "model.add(Dense(16, input_dim=10, activation='relu'))\n",
    "# Sıralı olduğunu belirttiğimiz için tekrar girdi boyudu vermemiz gerekmez.\n",
    "model.add(Dense(10, activation='relu'))\n",
    "model.add(Dense(1, activation='sigmoid'))\n",
    "model.compile(loss='binary_crossentropy', optimizer='adam', metrics=['accuracy'])"
   ]
  },
  {
   "cell_type": "code",
   "execution_count": null,
   "metadata": {},
   "outputs": [
    {
     "name": "stdout",
     "output_type": "stream",
     "text": [
      "Epoch 1/100\n",
      "180/180 [==============================] - 0s 2ms/step - loss: 0.5274 - accuracy: 0.7931 - val_loss: 0.4912 - val_accuracy: 0.7940\n",
      "Epoch 2/100\n",
      "180/180 [==============================] - 0s 1ms/step - loss: 0.4761 - accuracy: 0.7966 - val_loss: 0.4718 - val_accuracy: 0.7940\n",
      "Epoch 3/100\n",
      "180/180 [==============================] - 0s 2ms/step - loss: 0.4604 - accuracy: 0.7992 - val_loss: 0.4557 - val_accuracy: 0.7980\n",
      "Epoch 4/100\n",
      "180/180 [==============================] - 0s 1ms/step - loss: 0.4460 - accuracy: 0.8080 - val_loss: 0.4398 - val_accuracy: 0.8070\n",
      "Epoch 5/100\n",
      "180/180 [==============================] - 0s 1ms/step - loss: 0.4335 - accuracy: 0.8129 - val_loss: 0.4247 - val_accuracy: 0.8160\n",
      "Epoch 6/100\n",
      "180/180 [==============================] - 0s 1ms/step - loss: 0.4221 - accuracy: 0.8159 - val_loss: 0.4139 - val_accuracy: 0.8210\n",
      "Epoch 7/100\n",
      "180/180 [==============================] - 0s 2ms/step - loss: 0.4136 - accuracy: 0.8170 - val_loss: 0.4031 - val_accuracy: 0.8250\n",
      "Epoch 8/100\n",
      "180/180 [==============================] - 0s 1ms/step - loss: 0.4070 - accuracy: 0.8224 - val_loss: 0.3952 - val_accuracy: 0.8350\n",
      "Epoch 9/100\n",
      "180/180 [==============================] - 0s 1ms/step - loss: 0.3992 - accuracy: 0.8288 - val_loss: 0.3854 - val_accuracy: 0.8390\n",
      "Epoch 10/100\n",
      "180/180 [==============================] - 0s 1ms/step - loss: 0.3929 - accuracy: 0.8319 - val_loss: 0.3783 - val_accuracy: 0.8440\n",
      "Epoch 11/100\n",
      "180/180 [==============================] - 0s 1ms/step - loss: 0.3859 - accuracy: 0.8380 - val_loss: 0.3736 - val_accuracy: 0.8560\n",
      "Epoch 12/100\n",
      "180/180 [==============================] - 0s 1ms/step - loss: 0.3808 - accuracy: 0.8399 - val_loss: 0.3689 - val_accuracy: 0.8440\n",
      "Epoch 13/100\n",
      "180/180 [==============================] - 0s 1ms/step - loss: 0.3762 - accuracy: 0.8426 - val_loss: 0.3659 - val_accuracy: 0.8550\n",
      "Epoch 14/100\n",
      "180/180 [==============================] - 0s 1ms/step - loss: 0.3735 - accuracy: 0.8441 - val_loss: 0.3613 - val_accuracy: 0.8540\n",
      "Epoch 15/100\n",
      "180/180 [==============================] - 0s 2ms/step - loss: 0.3693 - accuracy: 0.8469 - val_loss: 0.3584 - val_accuracy: 0.8520\n",
      "Epoch 16/100\n",
      "180/180 [==============================] - 0s 1ms/step - loss: 0.3675 - accuracy: 0.8478 - val_loss: 0.3570 - val_accuracy: 0.8530\n",
      "Epoch 17/100\n",
      "180/180 [==============================] - 0s 2ms/step - loss: 0.3654 - accuracy: 0.8473 - val_loss: 0.3565 - val_accuracy: 0.8480\n",
      "Epoch 18/100\n",
      "180/180 [==============================] - 0s 1ms/step - loss: 0.3648 - accuracy: 0.8487 - val_loss: 0.3533 - val_accuracy: 0.8550\n",
      "Epoch 19/100\n",
      "180/180 [==============================] - 0s 1ms/step - loss: 0.3625 - accuracy: 0.8511 - val_loss: 0.3545 - val_accuracy: 0.8540\n",
      "Epoch 20/100\n",
      "180/180 [==============================] - 0s 2ms/step - loss: 0.3631 - accuracy: 0.8511 - val_loss: 0.3552 - val_accuracy: 0.8560\n",
      "Epoch 21/100\n",
      "180/180 [==============================] - 0s 1ms/step - loss: 0.3610 - accuracy: 0.8527 - val_loss: 0.3547 - val_accuracy: 0.8510\n",
      "Epoch 22/100\n",
      "180/180 [==============================] - 0s 1ms/step - loss: 0.3601 - accuracy: 0.8532 - val_loss: 0.3512 - val_accuracy: 0.8650\n",
      "Epoch 23/100\n",
      "180/180 [==============================] - 0s 1ms/step - loss: 0.3600 - accuracy: 0.8530 - val_loss: 0.3546 - val_accuracy: 0.8480\n",
      "Epoch 24/100\n",
      "180/180 [==============================] - 0s 1ms/step - loss: 0.3585 - accuracy: 0.8523 - val_loss: 0.3510 - val_accuracy: 0.8600\n",
      "Epoch 25/100\n",
      "180/180 [==============================] - 0s 1ms/step - loss: 0.3577 - accuracy: 0.8533 - val_loss: 0.3513 - val_accuracy: 0.8570\n",
      "Epoch 26/100\n",
      "180/180 [==============================] - 0s 1ms/step - loss: 0.3571 - accuracy: 0.8550 - val_loss: 0.3508 - val_accuracy: 0.8550\n",
      "Epoch 27/100\n",
      "180/180 [==============================] - 0s 1ms/step - loss: 0.3562 - accuracy: 0.8540 - val_loss: 0.3563 - val_accuracy: 0.8490\n",
      "Epoch 28/100\n",
      "180/180 [==============================] - 0s 1ms/step - loss: 0.3561 - accuracy: 0.8552 - val_loss: 0.3496 - val_accuracy: 0.8580\n",
      "Epoch 29/100\n",
      "180/180 [==============================] - 0s 1ms/step - loss: 0.3550 - accuracy: 0.8564 - val_loss: 0.3489 - val_accuracy: 0.8550\n",
      "Epoch 30/100\n",
      " 97/180 [===============>..............] - ETA: 0s - loss: 0.3592 - accuracy: 0.8536"
     ]
    }
   ],
   "source": [
    "# Train model\n",
    "history = model.fit(X_train, y_train , validation_data = (X_test,y_test) , epochs=100, batch_size=50)"
   ]
  },
  {
   "cell_type": "code",
   "execution_count": null,
   "metadata": {},
   "outputs": [],
   "source": [
    "# Print Accuracy\n",
    "scores = model.evaluate(rescaledX, y) \n",
    "print(\"%s: %.2f%%\" % (model.metrics_names[1], scores[1]*100))"
   ]
  },
  {
   "cell_type": "code",
   "execution_count": null,
   "metadata": {},
   "outputs": [],
   "source": [
    "#plot\n",
    "plt.plot(history.history['accuracy'])\n",
    "plt.plot(history.history['val_accuracy'])\n",
    "plt.title('Model accuracy')\n",
    "plt.ylabel('Accuracy')\n",
    "plt.xlabel('Epoch')\n",
    "plt.legend(['Train', 'Test'], loc='upper left')\n",
    "plt.show()\n",
    "\n",
    "plt.plot(history.history['loss']) \n",
    "plt.plot(history.history['val_loss']) \n",
    "plt.title('Model loss') \n",
    "plt.ylabel('Loss') \n",
    "plt.xlabel('Epoch') \n",
    "plt.legend(['Train', 'Test'], loc='upper left') \n",
    "plt.show()"
   ]
  },
  {
   "cell_type": "code",
   "execution_count": null,
   "metadata": {},
   "outputs": [],
   "source": []
  }
 ],
 "metadata": {
  "kernelspec": {
   "display_name": "Python 3",
   "language": "python",
   "name": "python3"
  },
  "language_info": {
   "codemirror_mode": {
    "name": "ipython",
    "version": 3
   },
   "file_extension": ".py",
   "mimetype": "text/x-python",
   "name": "python",
   "nbconvert_exporter": "python",
   "pygments_lexer": "ipython3",
   "version": "3.8.3"
  }
 },
 "nbformat": 4,
 "nbformat_minor": 4
}
